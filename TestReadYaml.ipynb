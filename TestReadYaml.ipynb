{
 "cells": [
  {
   "cell_type": "code",
   "execution_count": 8,
   "metadata": {},
   "outputs": [],
   "source": [
    "import yaml\n",
    "from pprint import pprint"
   ]
  },
  {
   "cell_type": "code",
   "execution_count": 4,
   "metadata": {},
   "outputs": [],
   "source": [
    "with open(\"build/out/config.yaml\", 'r') as f:\n",
    "    try:\n",
    "        config = yaml.load(f)\n",
    "    except yaml.YAMLError as exc:\n",
    "        print(exc)"
   ]
  },
  {
   "cell_type": "code",
   "execution_count": 9,
   "metadata": {},
   "outputs": [
    {
     "name": "stdout",
     "output_type": "stream",
     "text": [
      "{'buffer_size': 16777216,\n",
      " 'cycle_nb_steps': 10000,\n",
      " 'cycle_time': 0.001,\n",
      " 'nb_cells_per_layer': 2,\n",
      " 'nb_particles': 100000,\n",
      " 'statistics_cycle_time': 0.00075,\n",
      " 'world_size': 5,\n",
      " 'x_ini': 0.7071067690849304,\n",
      " 'x_max': 1.0,\n",
      " 'x_min': 0.0}\n"
     ]
    }
   ],
   "source": [
    "pprint(config)"
   ]
  }
 ],
 "metadata": {
  "kernelspec": {
   "display_name": "Python 3",
   "language": "python",
   "name": "python3"
  },
  "language_info": {
   "codemirror_mode": {
    "name": "ipython",
    "version": 3
   },
   "file_extension": ".py",
   "mimetype": "text/x-python",
   "name": "python",
   "nbconvert_exporter": "python",
   "pygments_lexer": "ipython3",
   "version": "3.7.0"
  }
 },
 "nbformat": 4,
 "nbformat_minor": 2
}
